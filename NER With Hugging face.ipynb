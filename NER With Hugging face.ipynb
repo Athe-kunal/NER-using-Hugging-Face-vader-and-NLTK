{
 "cells": [
  {
   "cell_type": "code",
   "execution_count": 1,
   "id": "variable-junction",
   "metadata": {},
   "outputs": [],
   "source": [
    "import pandas as pd\n",
    "from transformers import TFAutoModelForTokenClassification, AutoTokenizer\n",
    "import tensorflow as tf"
   ]
  },
  {
   "cell_type": "code",
   "execution_count": 2,
   "id": "electric-region",
   "metadata": {},
   "outputs": [
    {
     "data": {
      "text/plain": [
       "9"
      ]
     },
     "execution_count": 2,
     "metadata": {},
     "output_type": "execute_result"
    }
   ],
   "source": [
    "label_list = [\n",
    "    \"O\",       # Outside of a named entity\n",
    "    \"B-MISC\",  # Beginning of a miscellaneous entity right after another miscellaneous entity\n",
    "    \"I-MISC\",  # Miscellaneous entity\n",
    "    \"B-PER\",   # Beginning of a person's name right after another person's name\n",
    "    \"I-PER\",   # Person's name\n",
    "    \"B-ORG\",   # Beginning of an organisation right after another organisation\n",
    "    \"I-ORG\",   # Organisation\n",
    "    \"B-LOC\",   # Beginning of a location right after another location\n",
    "    \"I-LOC\"    # Location\n",
    "]\n",
    "len(label_list)"
   ]
  },
  {
   "cell_type": "code",
   "execution_count": 3,
   "id": "coupled-occurrence",
   "metadata": {},
   "outputs": [
    {
     "data": {
      "text/plain": [
       "540"
      ]
     },
     "execution_count": 3,
     "metadata": {},
     "output_type": "execute_result"
    }
   ],
   "source": [
    "df = pd.read_csv(\"scraped.csv\")\n",
    "df.drop([\"Unnamed: 0\"],inplace=True,axis=1)\n",
    "seq = df[\"Headlines\"]\n",
    "len(seq)"
   ]
  },
  {
   "cell_type": "code",
   "execution_count": 4,
   "id": "incorporated-rating",
   "metadata": {},
   "outputs": [
    {
     "data": {
      "text/plain": [
       "'Judge approves $650 million Facebook privacy settlement over facial recognition feature'"
      ]
     },
     "execution_count": 4,
     "metadata": {},
     "output_type": "execute_result"
    }
   ],
   "source": [
    "seq[9]"
   ]
  },
  {
   "cell_type": "code",
   "execution_count": 14,
   "id": "declared-success",
   "metadata": {},
   "outputs": [
    {
     "name": "stderr",
     "output_type": "stream",
     "text": [
      "All model checkpoint layers were used when initializing TFBertForTokenClassification.\n",
      "\n",
      "All the layers of TFBertForTokenClassification were initialized from the model checkpoint at dbmdz/bert-large-cased-finetuned-conll03-english.\n",
      "If your task is similar to the task the model of the checkpoint was trained on, you can already use TFBertForTokenClassification for predictions without further training.\n"
     ]
    }
   ],
   "source": [
    "model = TFAutoModelForTokenClassification.from_pretrained(\"dbmdz/bert-large-cased-finetuned-conll03-english\")\n",
    "tokenizer = AutoTokenizer.from_pretrained(\"bert-base-cased\",return_attention_mask=False)"
   ]
  },
  {
   "cell_type": "code",
   "execution_count": 58,
   "id": "failing-stroke",
   "metadata": {},
   "outputs": [
    {
     "name": "stdout",
     "output_type": "stream",
     "text": [
      "The original voice of Siri makes an appearance in Persona 5 Strikers\n",
      "[('[CLS]', 'O'), ('The', 'O'), ('original', 'O'), ('voice', 'O'), ('of', 'O'), ('Sir', 'I-PER'), ('##i', 'I-PER'), ('makes', 'O'), ('an', 'O'), ('appearance', 'O'), ('in', 'O'), ('Person', 'I-MISC'), ('##a', 'I-MISC'), ('5', 'I-MISC'), ('Strike', 'I-MISC'), ('##rs', 'I-MISC'), ('[SEP]', 'O')]\n"
     ]
    }
   ],
   "source": [
    "seq = df[\"Headlines\"]\n",
    "sq = seq[180]\n",
    "tokens = tokenizer.tokenize(tokenizer.decode(tokenizer.encode(sq)))\n",
    "inputs = tokenizer.encode(sq,return_tensors=\"tf\")\n",
    "\n",
    "outputs = model(inputs)[0] \n",
    "predictions = tf.argmax(outputs,axis=2)\n",
    "print(sq)\n",
    "print([(token,label_list[prediction]) for token,prediction in zip(tokens,predictions[0].numpy())])"
   ]
  },
  {
   "cell_type": "code",
   "execution_count": 60,
   "id": "bound-concentrate",
   "metadata": {},
   "outputs": [],
   "source": [
    "final = []\n",
    "preds = predictions[0].numpy()\n",
    "for token,tag in zip(tokens,preds):\n",
    "    if label_list[tag]==\"I-ORG\":\n",
    "        while label_list[tag]\n",
    "            "
   ]
  },
  {
   "cell_type": "code",
   "execution_count": 61,
   "id": "organized-cycle",
   "metadata": {},
   "outputs": [],
   "source": [
    "pred_list = [label_list[pred] for pred in preds]"
   ]
  },
  {
   "cell_type": "code",
   "execution_count": 62,
   "id": "grave-contemporary",
   "metadata": {},
   "outputs": [],
   "source": [
    "real_tokens= []\n",
    "for token in tokens:\n",
    "    if token.startswith(\"#\"):\n",
    "        real_tokens.append(token[2:])\n",
    "    else:\n",
    "        real_tokens.append(token)"
   ]
  },
  {
   "cell_type": "code",
   "execution_count": 63,
   "id": "vanilla-franchise",
   "metadata": {},
   "outputs": [
    {
     "data": {
      "text/plain": [
       "(16, 17)"
      ]
     },
     "execution_count": 63,
     "metadata": {},
     "output_type": "execute_result"
    }
   ],
   "source": [
    "len(pred_list),len(real_tokens)"
   ]
  },
  {
   "cell_type": "code",
   "execution_count": null,
   "id": "subject-tennis",
   "metadata": {},
   "outputs": [],
   "source": [
    "for i in pred_list:\n",
    "    if pred_list[i] == pred_list[i+1]"
   ]
  }
 ],
 "metadata": {
  "kernelspec": {
   "display_name": "Python 3",
   "language": "python",
   "name": "python3"
  },
  "language_info": {
   "codemirror_mode": {
    "name": "ipython",
    "version": 3
   },
   "file_extension": ".py",
   "mimetype": "text/x-python",
   "name": "python",
   "nbconvert_exporter": "python",
   "pygments_lexer": "ipython3",
   "version": "3.8.5"
  }
 },
 "nbformat": 4,
 "nbformat_minor": 5
}
